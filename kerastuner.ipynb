{
 "cells": [
  {
   "cell_type": "code",
   "execution_count": 1,
   "metadata": {},
   "outputs": [
    {
     "name": "stdout",
     "output_type": "stream",
     "text": [
      "Collecting keras-tuner\n",
      "  Downloading keras-tuner-1.0.2.tar.gz (62 kB)\n",
      "Requirement already satisfied: packaging in c:\\users\\sonal\\anaconda3\\envs\\tf2\\lib\\site-packages (from keras-tuner) (20.4)\n",
      "Processing c:\\users\\sonal\\appdata\\local\\pip\\cache\\wheels\\6e\\9c\\ed\\4499c9865ac1002697793e0ae05ba6be33553d098f3347fb94\\future-0.18.2-py3-none-any.whl\n",
      "Requirement already satisfied: numpy in c:\\users\\sonal\\anaconda3\\envs\\tf2\\lib\\site-packages (from keras-tuner) (1.18.5)\n",
      "Collecting tabulate\n",
      "  Downloading tabulate-0.8.7-py3-none-any.whl (24 kB)\n",
      "Collecting terminaltables\n",
      "  Downloading terminaltables-3.1.0.tar.gz (12 kB)\n",
      "Requirement already satisfied: colorama in c:\\users\\sonal\\anaconda3\\envs\\tf2\\lib\\site-packages (from keras-tuner) (0.4.4)\n",
      "Collecting tqdm\n",
      "  Downloading tqdm-4.54.0-py2.py3-none-any.whl (69 kB)\n",
      "Requirement already satisfied: requests in c:\\users\\sonal\\anaconda3\\envs\\tf2\\lib\\site-packages (from keras-tuner) (2.25.0)\n",
      "Requirement already satisfied: scipy in c:\\users\\sonal\\anaconda3\\envs\\tf2\\lib\\site-packages (from keras-tuner) (1.5.4)\n",
      "Requirement already satisfied: scikit-learn in c:\\users\\sonal\\anaconda3\\envs\\tf2\\lib\\site-packages (from keras-tuner) (0.23.2)\n",
      "Requirement already satisfied: pyparsing>=2.0.2 in c:\\users\\sonal\\anaconda3\\envs\\tf2\\lib\\site-packages (from packaging->keras-tuner) (2.4.7)\n",
      "Requirement already satisfied: six in c:\\users\\sonal\\anaconda3\\envs\\tf2\\lib\\site-packages (from packaging->keras-tuner) (1.15.0)\n",
      "Requirement already satisfied: certifi>=2017.4.17 in c:\\users\\sonal\\anaconda3\\envs\\tf2\\lib\\site-packages (from requests->keras-tuner) (2020.6.20)\n",
      "Requirement already satisfied: urllib3<1.27,>=1.21.1 in c:\\users\\sonal\\anaconda3\\envs\\tf2\\lib\\site-packages (from requests->keras-tuner) (1.26.2)\n",
      "Requirement already satisfied: idna<3,>=2.5 in c:\\users\\sonal\\anaconda3\\envs\\tf2\\lib\\site-packages (from requests->keras-tuner) (2.10)\n",
      "Requirement already satisfied: chardet<4,>=3.0.2 in c:\\users\\sonal\\anaconda3\\envs\\tf2\\lib\\site-packages (from requests->keras-tuner) (3.0.4)\n",
      "Requirement already satisfied: joblib>=0.11 in c:\\users\\sonal\\anaconda3\\envs\\tf2\\lib\\site-packages (from scikit-learn->keras-tuner) (0.17.0)\n",
      "Requirement already satisfied: threadpoolctl>=2.0.0 in c:\\users\\sonal\\anaconda3\\envs\\tf2\\lib\\site-packages (from scikit-learn->keras-tuner) (2.1.0)\n",
      "Building wheels for collected packages: keras-tuner, terminaltables\n",
      "  Building wheel for keras-tuner (setup.py): started\n",
      "  Building wheel for keras-tuner (setup.py): finished with status 'done'\n",
      "  Created wheel for keras-tuner: filename=keras_tuner-1.0.2-py3-none-any.whl size=78941 sha256=ca32795f495c2bca121507cb4a50f3687e37a183fab2389e597144a10bceb0ac\n",
      "  Stored in directory: c:\\users\\sonal\\appdata\\local\\pip\\cache\\wheels\\f9\\42\\e3\\73f763092b16b23350dbc5b7d9b6220bdbff2944ffcc2c612b\n",
      "  Building wheel for terminaltables (setup.py): started\n",
      "  Building wheel for terminaltables (setup.py): finished with status 'done'\n",
      "  Created wheel for terminaltables: filename=terminaltables-3.1.0-py3-none-any.whl size=15359 sha256=bd2101b53dce793da727a345267f99484930a7096f603a9c3db0b4dfa92f42d6\n",
      "  Stored in directory: c:\\users\\sonal\\appdata\\local\\pip\\cache\\wheels\\86\\1b\\58\\c23af2fe683acd8edc15d5a1268f0242be1ff2cf827fe34737\n",
      "Successfully built keras-tuner terminaltables\n",
      "Installing collected packages: future, tabulate, terminaltables, tqdm, keras-tuner\n",
      "Successfully installed future-0.18.2 keras-tuner-1.0.2 tabulate-0.8.7 terminaltables-3.1.0 tqdm-4.54.0\n"
     ]
    }
   ],
   "source": [
    "!pip install keras-tuner"
   ]
  },
  {
   "cell_type": "code",
   "execution_count": 8,
   "metadata": {},
   "outputs": [],
   "source": [
    "import pandas as pd\n",
    "# Importing the dataset\n",
    "dataset = pd.read_csv('Churn_Modelling.csv')\n",
    "X = dataset.iloc[:, 3:13]\n",
    "y = dataset.iloc[:, 13]\n",
    "#Create dummy variables\n",
    "geography=pd.get_dummies(X[\"Geography\"],drop_first=True)\n",
    "gender=pd.get_dummies(X['Gender'],drop_first=True)\n",
    "## Concatenate the Data Frames\n",
    "\n",
    "X=pd.concat([X,geography,gender],axis=1)\n",
    "\n",
    "## Drop Unnecessary columns\n",
    "X=X.drop(['Geography','Gender'],axis=1)\n",
    "\n",
    "# Splitting the dataset into the Training set and Test set\n",
    "from sklearn.model_selection import train_test_split\n",
    "X_train, X_test, y_train, y_test = train_test_split(X, y, test_size = 0.2, random_state = 0)\n",
    "# Feature Scaling\n",
    "from sklearn.preprocessing import StandardScaler\n",
    "sc = StandardScaler()\n",
    "X_train = sc.fit_transform(X_train)\n",
    "X_test = sc.transform(X_test)"
   ]
  },
  {
   "cell_type": "code",
   "execution_count": 9,
   "metadata": {},
   "outputs": [
    {
     "data": {
      "text/plain": [
       "(8000, 11)"
      ]
     },
     "execution_count": 9,
     "metadata": {},
     "output_type": "execute_result"
    }
   ],
   "source": [
    "X_train.shape"
   ]
  },
  {
   "cell_type": "code",
   "execution_count": 10,
   "metadata": {},
   "outputs": [],
   "source": [
    "from tensorflow import keras\n",
    "from tensorflow.keras import layers\n",
    "from kerastuner.tuners import RandomSearch\n",
    "def build_model(hp):\n",
    "    model = keras.Sequential()\n",
    "    for i in range(hp.Int('num_layers', 2, 20)):\n",
    "        model.add(layers.Dense(units=hp.Int('units_' + str(i),\n",
    "                                            min_value=32,\n",
    "                                            max_value=512,\n",
    "                                            step=32),\n",
    "                               activation='relu'))\n",
    "    model.add(layers.Dense(1, activation='sigmoid'))\n",
    "    model.compile(\n",
    "        optimizer=keras.optimizers.Adam(\n",
    "            hp.Choice('learning_rate', [1e-2, 1e-3, 1e-4])),\n",
    "        loss='binary_crossentropy',\n",
    "        metrics=['accuracy'])\n",
    "    return model"
   ]
  },
  {
   "cell_type": "code",
   "execution_count": 11,
   "metadata": {},
   "outputs": [],
   "source": [
    "\n",
    "tuner = RandomSearch(\n",
    "    build_model,\n",
    "    objective='val_accuracy',\n",
    "    max_trials=5,\n",
    "    executions_per_trial=3,\n",
    "    directory='ANN',\n",
    "    project_name='Churn1')"
   ]
  },
  {
   "cell_type": "code",
   "execution_count": 12,
   "metadata": {},
   "outputs": [
    {
     "name": "stdout",
     "output_type": "stream",
     "text": [
      "Search space summary\n",
      "Default search space size: 4\n",
      "num_layers (Int)\n",
      "{'default': None, 'conditions': [], 'min_value': 2, 'max_value': 20, 'step': 1, 'sampling': None}\n",
      "units_0 (Int)\n",
      "{'default': None, 'conditions': [], 'min_value': 32, 'max_value': 512, 'step': 32, 'sampling': None}\n",
      "units_1 (Int)\n",
      "{'default': None, 'conditions': [], 'min_value': 32, 'max_value': 512, 'step': 32, 'sampling': None}\n",
      "learning_rate (Choice)\n",
      "{'default': 0.01, 'conditions': [], 'values': [0.01, 0.001, 0.0001], 'ordered': True}\n"
     ]
    }
   ],
   "source": [
    "tuner.search_space_summary()"
   ]
  },
  {
   "cell_type": "code",
   "execution_count": 13,
   "metadata": {},
   "outputs": [
    {
     "name": "stdout",
     "output_type": "stream",
     "text": [
      "Trial 5 Complete [00h 00m 14s]\n",
      "val_accuracy: 0.8629999955495199\n",
      "\n",
      "Best val_accuracy So Far: 0.8658333420753479\n",
      "Total elapsed time: 00h 02m 09s\n",
      "INFO:tensorflow:Oracle triggered exit\n"
     ]
    }
   ],
   "source": [
    "tuner.search(X_train, y_train,\n",
    "             epochs=5,\n",
    "             validation_data=(X_test, y_test))"
   ]
  },
  {
   "cell_type": "code",
   "execution_count": 15,
   "metadata": {},
   "outputs": [],
   "source": [
    "models=tuner.get_best_models(num_models=5)"
   ]
  },
  {
   "cell_type": "code",
   "execution_count": 17,
   "metadata": {},
   "outputs": [
    {
     "name": "stdout",
     "output_type": "stream",
     "text": [
      "Results summary\n",
      "Results in ANN\\Churn1\n",
      "Showing 10 best trials\n",
      "Objective(name='val_accuracy', direction='max')\n",
      "Trial summary\n",
      "Hyperparameters:\n",
      "num_layers: 11\n",
      "units_0: 320\n",
      "units_1: 256\n",
      "learning_rate: 0.001\n",
      "units_2: 416\n",
      "units_3: 32\n",
      "units_4: 480\n",
      "units_5: 352\n",
      "units_6: 64\n",
      "units_7: 416\n",
      "units_8: 320\n",
      "units_9: 160\n",
      "units_10: 128\n",
      "units_11: 384\n",
      "units_12: 160\n",
      "units_13: 352\n",
      "units_14: 448\n",
      "units_15: 512\n",
      "units_16: 352\n",
      "units_17: 192\n",
      "Score: 0.8658333420753479\n",
      "Trial summary\n",
      "Hyperparameters:\n",
      "num_layers: 18\n",
      "units_0: 416\n",
      "units_1: 384\n",
      "learning_rate: 0.0001\n",
      "units_2: 288\n",
      "units_3: 96\n",
      "units_4: 160\n",
      "units_5: 416\n",
      "units_6: 64\n",
      "units_7: 64\n",
      "units_8: 224\n",
      "units_9: 352\n",
      "units_10: 320\n",
      "units_11: 192\n",
      "units_12: 128\n",
      "units_13: 448\n",
      "units_14: 128\n",
      "units_15: 32\n",
      "units_16: 32\n",
      "units_17: 32\n",
      "Score: 0.8650000095367432\n",
      "Trial summary\n",
      "Hyperparameters:\n",
      "num_layers: 2\n",
      "units_0: 416\n",
      "units_1: 256\n",
      "learning_rate: 0.01\n",
      "units_2: 384\n",
      "units_3: 480\n",
      "units_4: 128\n",
      "units_5: 192\n",
      "units_6: 192\n",
      "units_7: 288\n",
      "units_8: 224\n",
      "units_9: 256\n",
      "units_10: 128\n",
      "units_11: 480\n",
      "units_12: 448\n",
      "units_13: 32\n",
      "units_14: 416\n",
      "units_15: 480\n",
      "units_16: 352\n",
      "units_17: 480\n",
      "Score: 0.8650000095367432\n",
      "Trial summary\n",
      "Hyperparameters:\n",
      "num_layers: 15\n",
      "units_0: 256\n",
      "units_1: 352\n",
      "learning_rate: 0.0001\n",
      "units_2: 32\n",
      "units_3: 32\n",
      "units_4: 32\n",
      "units_5: 32\n",
      "units_6: 32\n",
      "units_7: 32\n",
      "units_8: 32\n",
      "units_9: 32\n",
      "units_10: 32\n",
      "units_11: 32\n",
      "units_12: 32\n",
      "units_13: 32\n",
      "units_14: 32\n",
      "Score: 0.8634999990463257\n",
      "Trial summary\n",
      "Hyperparameters:\n",
      "num_layers: 3\n",
      "units_0: 288\n",
      "units_1: 128\n",
      "learning_rate: 0.01\n",
      "units_2: 288\n",
      "units_3: 128\n",
      "units_4: 64\n",
      "units_5: 448\n",
      "units_6: 224\n",
      "units_7: 160\n",
      "units_8: 224\n",
      "units_9: 288\n",
      "units_10: 192\n",
      "units_11: 160\n",
      "units_12: 320\n",
      "units_13: 320\n",
      "units_14: 160\n",
      "units_15: 288\n",
      "units_16: 96\n",
      "units_17: 64\n",
      "Score: 0.8629999955495199\n"
     ]
    }
   ],
   "source": [
    "tuner.results_summary()"
   ]
  },
  {
   "cell_type": "code",
   "execution_count": null,
   "metadata": {},
   "outputs": [],
   "source": []
  },
  {
   "cell_type": "code",
   "execution_count": null,
   "metadata": {},
   "outputs": [],
   "source": []
  }
 ],
 "metadata": {
  "kernelspec": {
   "display_name": "Python 3",
   "language": "python",
   "name": "python3"
  },
  "language_info": {
   "codemirror_mode": {
    "name": "ipython",
    "version": 3
   },
   "file_extension": ".py",
   "mimetype": "text/x-python",
   "name": "python",
   "nbconvert_exporter": "python",
   "pygments_lexer": "ipython3",
   "version": "3.6.9"
  }
 },
 "nbformat": 4,
 "nbformat_minor": 4
}
